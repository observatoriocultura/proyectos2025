{
 "cells": [
  {
   "cell_type": "markdown",
   "id": "0ad42299",
   "metadata": {},
   "source": [
    "# Generador de listas de correos para envío y notificaciones invitados ECCI\n",
    "Notebook para la generación de listas de correos electrónicos para envío masivo y periódico de notificaciones a los invitados del Encuentro Ciudades y Culturas en Iberoamérica. Se realiza lo siguiente: Verificación de estados de confirmación, consolidación de listas, verificación de emails, verificación de envíos previos. Generación de archivo excel con lista de correos para envío.\n",
    "- Mauricio Ojeda Pepinosa\n",
    "- javier.ojeda@scrd.gov.co\n",
    "- 2025-09-15\n",
    "- Sistemas de Información y Narrativa"
   ]
  },
  {
   "cell_type": "code",
   "execution_count": 16,
   "id": "6c2b64c7",
   "metadata": {},
   "outputs": [],
   "source": [
    "import pandas as pd"
   ]
  },
  {
   "cell_type": "code",
   "execution_count": 17,
   "id": "eeb3a036",
   "metadata": {},
   "outputs": [],
   "source": [
    "# Código del grupo o lote de envío de correos\n",
    "mailing_group = '20250915-bienvenida'"
   ]
  },
  {
   "cell_type": "code",
   "execution_count": 18,
   "id": "f0cb2f25",
   "metadata": {},
   "outputs": [],
   "source": [
    "filename = 'BDD_InvitadxsACI_2025.xlsx'\n",
    "df_internacionales = pd.read_excel(filename, sheet_name='Internacionales')\n",
    "df_colombia = pd.read_excel(filename, sheet_name='Colombia')\n",
    "df_bogota = pd.read_excel(filename, sheet_name='Bogotá')\n",
    "df_secretcolombia = pd.read_excel(filename, sheet_name='SecretColombia')"
   ]
  },
  {
   "cell_type": "code",
   "execution_count": 19,
   "id": "71859553",
   "metadata": {},
   "outputs": [],
   "source": [
    "df_internacionales['lista'] = 'Internacionales'\n",
    "df_colombia['lista'] = 'Colombia'\n",
    "df_bogota['lista'] = 'Bogotá'\n",
    "df_secretcolombia['lista'] = 'SecretColombia'"
   ]
  },
  {
   "cell_type": "code",
   "execution_count": 20,
   "id": "d11ae460",
   "metadata": {},
   "outputs": [],
   "source": [
    "df_internacionales = df_internacionales[df_internacionales['Estado de confirmación'] == 'Confirma asistencia']\n",
    "df_colombia = df_colombia[df_colombia['Estado de confirmación'] == 'Confirma asistencia']\n",
    "df_bogota = df_bogota[df_bogota['Estado de confirmación'] == 'Confirma asistencia']\n",
    "df_secretcolombia = df_secretcolombia[df_secretcolombia['Estado de confirmación'] == 'Confirma asistencia']"
   ]
  },
  {
   "cell_type": "code",
   "execution_count": 21,
   "id": "eb64757e",
   "metadata": {},
   "outputs": [],
   "source": [
    "# En df_internacionales, concatenar Email y Email registro, separando con comas, debe ser tipo string\n",
    "df_internacionales['Email'] = (df_internacionales['Email'].fillna('') + ', ' + df_internacionales['Email registro'].fillna('')).astype(str)\n",
    "df_colombia['Email'] = (df_colombia['Email'].fillna('') + ', ' + df_colombia['Email registro'].fillna('')).astype(str)\n",
    "df_bogota['Email'] = (df_bogota['Email'].fillna('') + ', ' + df_bogota['Email registro'].fillna('')).astype(str)\n",
    "df_secretcolombia['Email'] = (df_secretcolombia['Email'].fillna('') + ', ' + df_secretcolombia['Email registro'].fillna('')).astype(str)"
   ]
  },
  {
   "cell_type": "code",
   "execution_count": 22,
   "id": "a081ae99",
   "metadata": {},
   "outputs": [],
   "source": [
    "columnas = ['ID', 'Nombre completo', 'Email', 'lista']\n",
    "df_internacionales = df_internacionales[columnas]\n",
    "df_colombia = df_colombia[columnas]\n",
    "df_bogota = df_bogota[columnas]\n",
    "df_secretcolombia = df_secretcolombia[columnas]"
   ]
  },
  {
   "cell_type": "code",
   "execution_count": 24,
   "id": "007d4ba3",
   "metadata": {},
   "outputs": [],
   "source": [
    "# Combinar los tres dataframes, garantizando que la columna \"Email\" sea string\n",
    "df_internacionales['Email'] = df_internacionales['Email'].astype(str)\n",
    "df_colombia['Email'] = df_colombia['Email'].astype(str)\n",
    "df_bogota['Email'] = df_bogota['Email'].astype(str)\n",
    "df_secretcolombia['Email'] = df_secretcolombia['Email'].astype(str)\n",
    "\n",
    "df_invitados = df_internacionales.merge(df_colombia, on=['ID', 'Nombre completo', 'Email', 'lista'], how='outer')\n",
    "df_invitados = df_invitados.merge(df_bogota, on=['ID', 'Nombre completo', 'Email', 'lista'], how='outer')\n",
    "df_invitados = df_invitados.merge(df_secretcolombia, on=['ID', 'Nombre completo', 'Email', 'lista'], how='outer')"
   ]
  },
  {
   "cell_type": "code",
   "execution_count": 26,
   "id": "6e6175a1",
   "metadata": {},
   "outputs": [],
   "source": [
    "# Quitar los que tiene Email vacío\n",
    "df_invitados = df_invitados[df_invitados['Email'].notna()]"
   ]
  },
  {
   "cell_type": "code",
   "execution_count": 27,
   "id": "02477618",
   "metadata": {},
   "outputs": [],
   "source": [
    "# Duplicar las filas para los invitados que tienen más de un Email, separados por coma#\n",
    "# Cuando un invitado tiene más de un email en la columna Email, se deben crear un registro adicional en el DataFrame\n",
    "df_invitados = df_invitados.assign(Email=df_invitados['Email'].str.split(',')).explode('Email')\n"
   ]
  },
  {
   "cell_type": "code",
   "execution_count": 28,
   "id": "9ce009ef",
   "metadata": {},
   "outputs": [],
   "source": [
    "# Quitar repetidos\n",
    "df_invitados = df_invitados.drop_duplicates(subset=['Email'])\n",
    "# Quitar espacios en blanco en la columna Email\n",
    "df_invitados['Email'] = df_invitados['Email'].str.strip()\n",
    "# Quitar las filas donde no hay Email\n",
    "df_invitados = df_invitados[df_invitados['Email'] != '']"
   ]
  },
  {
   "cell_type": "code",
   "execution_count": 29,
   "id": "b2215f70",
   "metadata": {},
   "outputs": [
    {
     "data": {
      "text/plain": [
       "(446, 5)"
      ]
     },
     "execution_count": 29,
     "metadata": {},
     "output_type": "execute_result"
    }
   ],
   "source": [
    "df_invitados['envio'] = mailing_group\n",
    "df_invitados.shape"
   ]
  },
  {
   "cell_type": "code",
   "execution_count": 30,
   "id": "7c6a0e32",
   "metadata": {},
   "outputs": [],
   "source": [
    "with pd.ExcelWriter('users_upload.xlsx', engine='openpyxl', mode='a', if_sheet_exists='replace') as writer:\n",
    "    df_invitados.to_excel(writer, sheet_name='mailing', index=False)"
   ]
  }
 ],
 "metadata": {
  "kernelspec": {
   "display_name": "Python 3",
   "language": "python",
   "name": "python3"
  },
  "language_info": {
   "codemirror_mode": {
    "name": "ipython",
    "version": 3
   },
   "file_extension": ".py",
   "mimetype": "text/x-python",
   "name": "python",
   "nbconvert_exporter": "python",
   "pygments_lexer": "ipython3",
   "version": "3.12.5"
  }
 },
 "nbformat": 4,
 "nbformat_minor": 5
}
