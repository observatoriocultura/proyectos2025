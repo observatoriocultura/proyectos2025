{
 "cells": [
  {
   "cell_type": "markdown",
   "metadata": {},
   "source": [
    "# Preparación de los datos para tablero Encuesta Prácticas Deportivas y Calidad de Vida 2024\n",
    "\n",
    "Secretaría de Cultura, Recreación y Deporte | Dirección Observatorio y Gestión del Conocimiento Cultural | Sistemas de Información y Narrativas\n",
    "\n",
    "30 de abril de 2025\n",
    "\n",
    "- Este notebook muestra el proceso de lectura, procesamiento y preparación de datos de las secciones, preguntas, variables (subpreguntas), opciones de respuesta, respuestas detalladas y extendidas de la encuesta de práctivas deportivas y calidad de vida 2024, como módulo de la Encuesta Bienal de Culturas.\n",
    "- Con estos datos se construye el tablero de visualización de datos en Power Bi, disponible en el siguiente enlace [Tablero EBC Prácticas Deportivas y Calidad de Vida 2024](https://app.powerbi.com/view?r=eyJrIjoiNjBkMjFjMjktZWIwZi00ZjA5LWEwNGUtODVmYzUyODFlNDYyIiwidCI6IjRmNzkzOWM3LWFhNjAtNDliZC05YjdiLTZmODFjMzdkMWIzNyJ9&pageName=69b48348ad3ee2b5bec5)\n",
    "- Los datos completos y archivos de construcción están disponibles en la siguiente carpeta de Google Drive [m182 EBC Prácticas deportivas 2024](https://drive.google.com/drive/folders/13Ut2WIxtUHiPrdhqGPUhFwG2EFzScwtm)."
   ]
  },
  {
   "cell_type": "code",
   "execution_count": 1,
   "metadata": {},
   "outputs": [],
   "source": [
    "import pandas as pd"
   ]
  },
  {
   "cell_type": "code",
   "execution_count": 2,
   "metadata": {},
   "outputs": [],
   "source": [
    "codigo_medicion = 'm182'"
   ]
  },
  {
   "cell_type": "code",
   "execution_count": 3,
   "metadata": {},
   "outputs": [],
   "source": [
    "df_respuestas = pd.read_excel(f'{codigo_medicion}_datos.xlsx',sheet_name='datos')"
   ]
  },
  {
   "cell_type": "code",
   "execution_count": 4,
   "metadata": {},
   "outputs": [
    {
     "data": {
      "text/plain": [
       "' for columna in columnas_float:\\n    print(columna) '"
      ]
     },
     "execution_count": 4,
     "metadata": {},
     "output_type": "execute_result"
    }
   ],
   "source": [
    "# Obtener las columnas de tipo float\n",
    "columnas_float = df_respuestas.select_dtypes(include=['float']).columns.tolist()\n",
    "\n",
    "# Iterar sobre las columnas de tipo float y mostrarlas\n",
    "\"\"\" for columna in columnas_float:\n",
    "    print(columna) \"\"\""
   ]
  },
  {
   "cell_type": "code",
   "execution_count": 5,
   "metadata": {},
   "outputs": [],
   "source": [
    "# Diccionario de datos, detalle de columnas\n",
    "df_variables = pd.read_excel(f'{codigo_medicion}_datos.xlsx',sheet_name='variables')"
   ]
  },
  {
   "cell_type": "code",
   "execution_count": 6,
   "metadata": {},
   "outputs": [],
   "source": [
    "# Variables para derretir en detalle\n",
    "#df_variables_melt = df_variables[(df_variables['derretir'].notnull() & (df_variables['derretir'] != \"\") & (df_variables['tipo'] == 50))]\n",
    "df_variables_melt = df_variables[(df_variables['derretir'].notnull() & (df_variables['derretir'] != \"\"))]"
   ]
  },
  {
   "cell_type": "code",
   "execution_count": 7,
   "metadata": {},
   "outputs": [],
   "source": [
    "# Filtrar las filas donde la columna 'grupo' contiene la cadena \"SiNo,\"\n",
    "to_boolean_variables = df_variables[df_variables['grupo'].str.contains(\"SiNo,\", na=False)]['codigo_variable'].tolist()\n",
    "# Recorrer la lista de variables booleanas, para reemplazar los valores\n",
    "for variable in to_boolean_variables:\n",
    "    # Reemplazar valores en la columna correspondiente\n",
    "    df_respuestas[variable] = df_respuestas[variable].apply(lambda x: \"Sí\" if pd.notnull(x) and str(x).strip() != \"\" else \"No\")"
   ]
  },
  {
   "cell_type": "markdown",
   "metadata": {},
   "source": [
    "## Generar detalle de respuestas\n",
    "Generar datos para la tabla *respuestas*"
   ]
  },
  {
   "cell_type": "code",
   "execution_count": 8,
   "metadata": {},
   "outputs": [
    {
     "data": {
      "text/html": [
       "<div>\n",
       "<style scoped>\n",
       "    .dataframe tbody tr th:only-of-type {\n",
       "        vertical-align: middle;\n",
       "    }\n",
       "\n",
       "    .dataframe tbody tr th {\n",
       "        vertical-align: top;\n",
       "    }\n",
       "\n",
       "    .dataframe thead th {\n",
       "        text-align: right;\n",
       "    }\n",
       "</style>\n",
       "<table border=\"1\" class=\"dataframe\">\n",
       "  <thead>\n",
       "    <tr style=\"text-align: right;\">\n",
       "      <th></th>\n",
       "      <th>encuestado_id</th>\n",
       "      <th>factor_expansion</th>\n",
       "      <th>EDAD</th>\n",
       "      <th>codigo_variable</th>\n",
       "      <th>respuesta</th>\n",
       "      <th>indice_pregunta</th>\n",
       "      <th>indice_variable</th>\n",
       "      <th>pregunta</th>\n",
       "    </tr>\n",
       "  </thead>\n",
       "  <tbody>\n",
       "    <tr>\n",
       "      <th>0</th>\n",
       "      <td>1</td>\n",
       "      <td>1257.35490</td>\n",
       "      <td>78</td>\n",
       "      <td>Id</td>\n",
       "      <td>NaN</td>\n",
       "      <td>0</td>\n",
       "      <td>1</td>\n",
       "      <td>ID</td>\n",
       "    </tr>\n",
       "    <tr>\n",
       "      <th>1</th>\n",
       "      <td>2</td>\n",
       "      <td>209.11119</td>\n",
       "      <td>19</td>\n",
       "      <td>Id</td>\n",
       "      <td>NaN</td>\n",
       "      <td>0</td>\n",
       "      <td>1</td>\n",
       "      <td>ID</td>\n",
       "    </tr>\n",
       "    <tr>\n",
       "      <th>2</th>\n",
       "      <td>3</td>\n",
       "      <td>501.42880</td>\n",
       "      <td>23</td>\n",
       "      <td>Id</td>\n",
       "      <td>NaN</td>\n",
       "      <td>0</td>\n",
       "      <td>1</td>\n",
       "      <td>ID</td>\n",
       "    </tr>\n",
       "    <tr>\n",
       "      <th>3</th>\n",
       "      <td>4</td>\n",
       "      <td>396.20236</td>\n",
       "      <td>32</td>\n",
       "      <td>Id</td>\n",
       "      <td>NaN</td>\n",
       "      <td>0</td>\n",
       "      <td>1</td>\n",
       "      <td>ID</td>\n",
       "    </tr>\n",
       "    <tr>\n",
       "      <th>4</th>\n",
       "      <td>5</td>\n",
       "      <td>1951.11670</td>\n",
       "      <td>55</td>\n",
       "      <td>Id</td>\n",
       "      <td>NaN</td>\n",
       "      <td>0</td>\n",
       "      <td>1</td>\n",
       "      <td>ID</td>\n",
       "    </tr>\n",
       "  </tbody>\n",
       "</table>\n",
       "</div>"
      ],
      "text/plain": [
       "   encuestado_id  factor_expansion  EDAD codigo_variable respuesta  \\\n",
       "0              1        1257.35490    78              Id       NaN   \n",
       "1              2         209.11119    19              Id       NaN   \n",
       "2              3         501.42880    23              Id       NaN   \n",
       "3              4         396.20236    32              Id       NaN   \n",
       "4              5        1951.11670    55              Id       NaN   \n",
       "\n",
       "   indice_pregunta  indice_variable pregunta  \n",
       "0                0                1       ID  \n",
       "1                0                1       ID  \n",
       "2                0                1       ID  \n",
       "3                0                1       ID  \n",
       "4                0                1       ID  "
      ]
     },
     "execution_count": 8,
     "metadata": {},
     "output_type": "execute_result"
    }
   ],
   "source": [
    "# Aplica la función melt en df_respuestas para \"derretir\" las columnas especificadas en df_variables_melt\n",
    "df_respuestas_melt = pd.melt(\n",
    "    df_respuestas, \n",
    "    id_vars=['encuestado_id', 'FACTOR', 'EDAD'],  # Estas son las columnas que queremos conservar\n",
    "    value_vars=df_variables_melt['codigo_variable'],  # Estas son las columnas a derretir\n",
    "    var_name='codigo_variable', \n",
    "    value_name='respuesta'\n",
    ")\n",
    "\n",
    "# Ahora hacemos el merge entre df_respuestas_melt y df_variables_melt para agregar las columnas 'indice_pregunta' e 'indice_variable'\n",
    "df_respuestas_melt = df_respuestas_melt.merge(\n",
    "    df_variables[['codigo_variable', 'indice_pregunta', 'indice_variable', 'pregunta']], \n",
    "    on='codigo_variable', \n",
    "    how='left'\n",
    ")\n",
    "\n",
    "\n",
    "# Se reemplaza el los valores nan de la columna 'respuesta' por \"NS/NR\"\n",
    "df_respuestas_melt['respuesta'] = df_respuestas_melt['respuesta'].fillna(\"NS/NR\")\n",
    "df_respuestas_melt['respuesta'] = df_respuestas_melt['respuesta'].str.strip()\n",
    "\n",
    "# Renombramos la columna FACTOR a factor_expansion\n",
    "df_respuestas_melt.rename(columns={'FACTOR': 'factor_expansion'}, inplace=True)\n",
    "df_respuestas_melt.head()"
   ]
  },
  {
   "cell_type": "code",
   "execution_count": 9,
   "metadata": {},
   "outputs": [
    {
     "name": "stdout",
     "output_type": "stream",
     "text": [
      "Cantidad de registros donde indice_pregunta es igual a 92: 4549\n"
     ]
    }
   ],
   "source": [
    "# Filtrar los registros donde indice_pregunta es igual a 92\n",
    "registros_filtrados = df_respuestas_melt[df_respuestas_melt['indice_variable'] == 92]\n",
    "\n",
    "# Mostrar la cantidad de registros\n",
    "registros_filtrados_count = registros_filtrados.shape[0]\n",
    "print(f\"Cantidad de registros donde indice_pregunta es igual a 92: {registros_filtrados_count}\")\n",
    "\n",
    "registros_filtrados.to_excel('testing.xlsx', index=False)"
   ]
  },
  {
   "cell_type": "code",
   "execution_count": 10,
   "metadata": {},
   "outputs": [
    {
     "data": {
      "text/html": [
       "<div>\n",
       "<style scoped>\n",
       "    .dataframe tbody tr th:only-of-type {\n",
       "        vertical-align: middle;\n",
       "    }\n",
       "\n",
       "    .dataframe tbody tr th {\n",
       "        vertical-align: top;\n",
       "    }\n",
       "\n",
       "    .dataframe thead th {\n",
       "        text-align: right;\n",
       "    }\n",
       "</style>\n",
       "<table border=\"1\" class=\"dataframe\">\n",
       "  <thead>\n",
       "    <tr style=\"text-align: right;\">\n",
       "      <th></th>\n",
       "      <th>pregunta</th>\n",
       "      <th>respuesta</th>\n",
       "    </tr>\n",
       "  </thead>\n",
       "  <tbody>\n",
       "    <tr>\n",
       "      <th>0</th>\n",
       "      <td>ID</td>\n",
       "      <td>NaN</td>\n",
       "    </tr>\n",
       "    <tr>\n",
       "      <th>1</th>\n",
       "      <td>H1</td>\n",
       "      <td>NaN</td>\n",
       "    </tr>\n",
       "    <tr>\n",
       "      <th>2</th>\n",
       "      <td>H2</td>\n",
       "      <td>NaN</td>\n",
       "    </tr>\n",
       "    <tr>\n",
       "      <th>3</th>\n",
       "      <td>H51</td>\n",
       "      <td>NaN</td>\n",
       "    </tr>\n",
       "    <tr>\n",
       "      <th>4</th>\n",
       "      <td>V1</td>\n",
       "      <td>Usme</td>\n",
       "    </tr>\n",
       "  </tbody>\n",
       "</table>\n",
       "</div>"
      ],
      "text/plain": [
       "  pregunta respuesta\n",
       "0       ID       NaN\n",
       "1       H1       NaN\n",
       "2       H2       NaN\n",
       "3      H51       NaN\n",
       "4       V1      Usme"
      ]
     },
     "execution_count": 10,
     "metadata": {},
     "output_type": "execute_result"
    }
   ],
   "source": [
    "# Extraer las columnas \"pregunta\" y \"respuesta\" del DataFrame original\n",
    "df_opciones = df_respuestas_melt[['pregunta', 'respuesta']].copy()\n",
    "\n",
    "# Eliminar espacios a la derecha e izquierda del texto en la columna 'respuesta'\n",
    "df_opciones['respuesta'] = df_opciones['respuesta'].str.strip()\n",
    "\n",
    "# Eliminar filas duplicadas\n",
    "df_opciones = df_opciones.drop_duplicates()\n",
    "\n",
    "# Opcional: Reiniciar el índice del DataFrame\n",
    "df_opciones = df_opciones.reset_index(drop=True)\n",
    "\n",
    "#df_opciones.dropna(subset=['respuesta'], inplace=True)\n",
    "\n",
    "# Mostrar el DataFrame resultante\n",
    "df_opciones.head(5)"
   ]
  },
  {
   "cell_type": "code",
   "execution_count": 11,
   "metadata": {},
   "outputs": [],
   "source": [
    "# Sobre escribir archivo\n",
    "from openpyxl import load_workbook\n",
    "\n",
    "# Ruta del archivo Excel\n",
    "file_path = f'{codigo_medicion}_opciones.xlsx'\n",
    "\n",
    "# Cargar el archivo Excel existente\n",
    "book = load_workbook(file_path)\n",
    "\n",
    "# Utilizamos el engine openpyxl para abrir el archivo sin sobrescribir las otras hojas\n",
    "with pd.ExcelWriter(file_path, engine='openpyxl', mode='a', if_sheet_exists='replace') as writer:\n",
    "    # Escribimos o actualizamos la hoja de cálculo 'respuestas_detalle'\n",
    "    df_opciones.to_excel(writer, index=False, sheet_name='opciones_pre')"
   ]
  },
  {
   "cell_type": "code",
   "execution_count": 12,
   "metadata": {},
   "outputs": [],
   "source": [
    "df_respuestas_melt['respuesta'] = df_respuestas_melt['respuesta'].astype(str)\n",
    "df_respuestas_melt.to_parquet(f'{codigo_medicion}_respuestas_detalle.parquet', index=False)"
   ]
  }
 ],
 "metadata": {
  "kernelspec": {
   "display_name": "Python 3",
   "language": "python",
   "name": "python3"
  },
  "language_info": {
   "codemirror_mode": {
    "name": "ipython",
    "version": 3
   },
   "file_extension": ".py",
   "mimetype": "text/x-python",
   "name": "python",
   "nbconvert_exporter": "python",
   "pygments_lexer": "ipython3",
   "version": "3.12.5"
  }
 },
 "nbformat": 4,
 "nbformat_minor": 2
}
