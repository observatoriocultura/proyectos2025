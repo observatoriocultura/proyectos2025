{
 "cells": [
  {
   "cell_type": "code",
   "execution_count": 99,
   "id": "6c2b64c7",
   "metadata": {},
   "outputs": [],
   "source": [
    "import pandas as pd"
   ]
  },
  {
   "cell_type": "code",
   "execution_count": 110,
   "id": "eeb3a036",
   "metadata": {},
   "outputs": [],
   "source": [
    "mailing_group = '20250820-proximos-pasos'"
   ]
  },
  {
   "cell_type": "code",
   "execution_count": 100,
   "id": "f0cb2f25",
   "metadata": {},
   "outputs": [],
   "source": [
    "filename = 'BDD_InvitadxsACI_2025.xlsx'\n",
    "df_internacionales = pd.read_excel(filename, sheet_name='Internacionales')\n",
    "df_colombia = pd.read_excel(filename, sheet_name='Colombia')\n",
    "df_bogota = pd.read_excel(filename, sheet_name='Bogotá')"
   ]
  },
  {
   "cell_type": "code",
   "execution_count": 101,
   "id": "71859553",
   "metadata": {},
   "outputs": [],
   "source": [
    "df_internacionales['lista'] = 'Internacionales'\n",
    "df_colombia['lista'] = 'Colombia'\n",
    "df_bogota['lista'] = 'Bogotá'"
   ]
  },
  {
   "cell_type": "code",
   "execution_count": 102,
   "id": "d11ae460",
   "metadata": {},
   "outputs": [],
   "source": [
    "df_internacionales = df_internacionales[df_internacionales['Estado de Carta de Invitación'] == 'Enviada']\n",
    "df_colombia = df_colombia[df_colombia['Estado de confirmación'] == 'Confirma asistencia']\n",
    "df_bogota = df_bogota[df_bogota['Estado de confirmación'] == 'Confirma asistencia']"
   ]
  },
  {
   "cell_type": "code",
   "execution_count": 103,
   "id": "a081ae99",
   "metadata": {},
   "outputs": [],
   "source": [
    "columnas = ['ID', 'Nombre completo', 'Email', 'lista']\n",
    "df_internacionales = df_internacionales[columnas]\n",
    "df_colombia = df_colombia[columnas]\n",
    "df_bogota = df_bogota[columnas]"
   ]
  },
  {
   "cell_type": "code",
   "execution_count": 104,
   "id": "007d4ba3",
   "metadata": {},
   "outputs": [],
   "source": [
    "df_invitados = df_internacionales.merge(df_colombia, on=['ID', 'Nombre completo', 'Email', 'lista'], how='outer')\n",
    "df_invitados = df_invitados.merge(df_bogota, on=['ID', 'Nombre completo', 'Email', 'lista'], how='outer')"
   ]
  },
  {
   "cell_type": "code",
   "execution_count": 105,
   "id": "6e6175a1",
   "metadata": {},
   "outputs": [],
   "source": [
    "# Quitar los que tiene Email vacío\n",
    "df_invitados = df_invitados[df_invitados['Email'].notna()]"
   ]
  },
  {
   "cell_type": "code",
   "execution_count": 106,
   "id": "02477618",
   "metadata": {},
   "outputs": [],
   "source": [
    "# Duplicar las filas para los invitados que tienen más de un Email, separados por coma#\n",
    "# Cuando un invitado tiene más de un email en la columna Email, se deben crear filas adicionales para cada email\n",
    "\n",
    "df_invitados['Email'] = df_invitados['Email'].str.split(',')\n",
    "df_invitados = df_invitados.explode('Email')\n",
    "# Quitar espacios en blanco en la columna Email\n",
    "df_invitados['Email'] = df_invitados['Email'].str.strip()\n"
   ]
  },
  {
   "cell_type": "code",
   "execution_count": 111,
   "id": "b2215f70",
   "metadata": {},
   "outputs": [
    {
     "data": {
      "text/plain": [
       "(14, 5)"
      ]
     },
     "execution_count": 111,
     "metadata": {},
     "output_type": "execute_result"
    }
   ],
   "source": [
    "# Idenfificar los invidados a los que ya se les envió mensaje desde la hoja mailing\n",
    "df_mailing = pd.read_excel(filename, sheet_name='mailing')\n",
    "\n",
    "# Quitar de df_invitados los emails que aparecene en df_mailing['email']\n",
    "df_invitados = df_invitados[~df_invitados['Email'].isin(df_mailing['email'])]\n",
    "\n",
    "df_invitados['envio'] = mailing_group\n",
    "\n",
    "df_invitados.shape"
   ]
  },
  {
   "cell_type": "code",
   "execution_count": 114,
   "id": "7c6a0e32",
   "metadata": {},
   "outputs": [],
   "source": [
    "with pd.ExcelWriter('users_upload.xlsx', engine='openpyxl', mode='a', if_sheet_exists='replace') as writer:\n",
    "    df_invitados.to_excel(writer, sheet_name='mailing', index=False) "
   ]
  }
 ],
 "metadata": {
  "kernelspec": {
   "display_name": "Python 3",
   "language": "python",
   "name": "python3"
  },
  "language_info": {
   "codemirror_mode": {
    "name": "ipython",
    "version": 3
   },
   "file_extension": ".py",
   "mimetype": "text/x-python",
   "name": "python",
   "nbconvert_exporter": "python",
   "pygments_lexer": "ipython3",
   "version": "3.12.5"
  }
 },
 "nbformat": 4,
 "nbformat_minor": 5
}
