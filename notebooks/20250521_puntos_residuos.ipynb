{
 "cells": [
  {
   "cell_type": "code",
   "execution_count": 3,
   "id": "9ab7e22f",
   "metadata": {},
   "outputs": [],
   "source": [
    "import pandas as pd\n",
    "import re\n",
    "from unidecode import unidecode\n",
    "import os"
   ]
  },
  {
   "cell_type": "code",
   "execution_count": 6,
   "id": "686e9e4b",
   "metadata": {},
   "outputs": [],
   "source": [
    "# Palabras que suelen actuar como conectores en direcciones y que queremos tratar como separadores\n",
    "SLUG_STOP_WORDS = [\"con\", \"de\", \"del\", \"la\", \"las\", \"el\", \"los\", \"y\", \"a\", \"al\", \"en\", \"para\", \"por\"]\n",
    "ruta_archivo = r\"D:\\docs\\trabajo\\SecCultura\\Cultura Ciudadana\\Ambiente\\Residuos\\202505 Observación 100 puntos\\202505 Puntos Observaciones Residuos.xlsx\""
   ]
  },
  {
   "cell_type": "code",
   "execution_count": 7,
   "id": "b811ea7a",
   "metadata": {},
   "outputs": [],
   "source": [
    "def crear_slug(texto_direccion):\n",
    "    \"\"\"\n",
    "    Convierte un texto de dirección en un formato slug.\n",
    "    Ejemplo: \"Calle 1 con carrera 13\" -> \"calle-1-carrera-13\"\n",
    "    Ejemplo: \"Avenida de los Héroes N° 24\" -> \"avenida-heroes-n-24\"\n",
    "    \"\"\"\n",
    "    if not isinstance(texto_direccion, str) or not texto_direccion.strip():\n",
    "        return \"\"  # Retorna vacío si no es texto o está vacío/solo espacios\n",
    "\n",
    "    # 1. Convertir a minúsculas y transliterar (quitar acentos, ñ -> n)\n",
    "    slug = unidecode(str(texto_direccion)).lower()\n",
    "\n",
    "    # 2. Reemplazar palabras de parada (stop words) específicas por un espacio.\n",
    "    #    Esto ayuda a que se traten como separadores si están rodeadas de espacios.\n",
    "    for word in SLUG_STOP_WORDS:\n",
    "        slug = slug.replace(f\" {word} \", \" \") # Importante los espacios alrededor\n",
    "\n",
    "    # 3. Reemplazar cualquier carácter que NO sea alfanumérico (letra, número) o un guion ya existente, por un solo guion.\n",
    "    #    Esto incluye espacios, puntos, comas, #, °, etc.\n",
    "    slug = re.sub(r'[^\\w-]+', '-', slug)\n",
    "\n",
    "    # 4. Reemplazar múltiples guiones seguidos por uno solo\n",
    "    slug = re.sub(r'--+', '-', slug)\n",
    "\n",
    "    # 5. Eliminar guiones al principio o al final del slug\n",
    "    slug = slug.strip('-')\n",
    "\n",
    "    return slug"
   ]
  },
  {
   "cell_type": "code",
   "execution_count": null,
   "id": "70461e35",
   "metadata": {},
   "outputs": [],
   "source": []
  }
 ],
 "metadata": {
  "kernelspec": {
   "display_name": "Python 3",
   "language": "python",
   "name": "python3"
  },
  "language_info": {
   "codemirror_mode": {
    "name": "ipython",
    "version": 3
   },
   "file_extension": ".py",
   "mimetype": "text/x-python",
   "name": "python",
   "nbconvert_exporter": "python",
   "pygments_lexer": "ipython3",
   "version": "3.12.5"
  }
 },
 "nbformat": 4,
 "nbformat_minor": 5
}
